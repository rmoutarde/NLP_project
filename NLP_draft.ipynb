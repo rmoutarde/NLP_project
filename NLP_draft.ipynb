{
  "nbformat": 4,
  "nbformat_minor": 0,
  "metadata": {
    "colab": {
      "name": "NLP_draft.ipynb",
      "provenance": [],
      "include_colab_link": true
    },
    "kernelspec": {
      "name": "python3",
      "display_name": "Python 3"
    },
    "language_info": {
      "name": "python"
    }
  },
  "cells": [
    {
      "cell_type": "markdown",
      "metadata": {
        "id": "view-in-github",
        "colab_type": "text"
      },
      "source": [
        "<a href=\"https://colab.research.google.com/github/rmoutarde/NLP_project/blob/main/NLP_draft.ipynb\" target=\"_parent\"><img src=\"https://colab.research.google.com/assets/colab-badge.svg\" alt=\"Open In Colab\"/></a>"
      ]
    },
    {
      "cell_type": "markdown",
      "metadata": {
        "id": "UL5Pm9RM8NdH"
      },
      "source": [
        "# NLP Project - Fake News Detection - Quentin MASCART & Raphaëlle VILLERS\n"
      ]
    },
    {
      "cell_type": "markdown",
      "metadata": {
        "id": "SXF1Wxwe8S2v"
      },
      "source": [
        "## Objective : \n",
        "\n",
        "## The data :"
      ]
    },
    {
      "cell_type": "markdown",
      "metadata": {
        "id": "EjvTJ4Es8mq9"
      },
      "source": [
        "## Project structure \n",
        "\n",
        "### 1. Preprocessing\n",
        "\n",
        "### 2. \n",
        "\n",
        "### 3. \n",
        "\n",
        "### ..."
      ]
    },
    {
      "cell_type": "code",
      "metadata": {
        "id": "m0O4F4k-93BN"
      },
      "source": [
        "import pandas as pd\n",
        "import numpy as np\n",
        "import matplotlib.pyplot as plt\n",
        "import seaborn as sns"
      ],
      "execution_count": null,
      "outputs": []
    },
    {
      "cell_type": "markdown",
      "metadata": {
        "id": "Xtn5EFOC9L29"
      },
      "source": [
        "## Preparation\n",
        "\n",
        "Data can be manually downloaded here : https://www.kaggle.com/anmolkumar/fake-news-content-detection?fbclid=IwAR3a9gh9NHxedo3bNkTzErZpX12nk9lvjej1f608TzCcehfp2iIUmVH5pFc"
      ]
    },
    {
      "cell_type": "code",
      "metadata": {
        "colab": {
          "base_uri": "https://localhost:8080/"
        },
        "id": "5374rq498gOn",
        "outputId": "d56d3c63-95f5-4d1a-fdae-832671ec3949"
      },
      "source": [
        "! wget https://raw.githubusercontent.com/rmoutarde/NLP_project/main/train.csv"
      ],
      "execution_count": null,
      "outputs": [
        {
          "output_type": "stream",
          "text": [
            "--2021-03-20 15:14:05--  https://raw.githubusercontent.com/rmoutarde/NLP_project/main/train.csv\n",
            "Resolving raw.githubusercontent.com (raw.githubusercontent.com)... 185.199.108.133, 185.199.109.133, 185.199.110.133, ...\n",
            "Connecting to raw.githubusercontent.com (raw.githubusercontent.com)|185.199.108.133|:443... connected.\n",
            "HTTP request sent, awaiting response... 200 OK\n",
            "Length: 1398534 (1.3M) [text/plain]\n",
            "Saving to: ‘train.csv’\n",
            "\n",
            "train.csv           100%[===================>]   1.33M  --.-KB/s    in 0.09s   \n",
            "\n",
            "2021-03-20 15:14:06 (14.3 MB/s) - ‘train.csv’ saved [1398534/1398534]\n",
            "\n"
          ],
          "name": "stdout"
        }
      ]
    },
    {
      "cell_type": "code",
      "metadata": {
        "colab": {
          "base_uri": "https://localhost:8080/",
          "height": 206
        },
        "id": "ZqRoXkp1-Bbl",
        "outputId": "3ef416cd-bb86-49d9-e3f5-1e13c8671e0f"
      },
      "source": [
        "df_news = pd.read_csv(\"train.csv\")\n",
        "df_news.head()"
      ],
      "execution_count": null,
      "outputs": [
        {
          "output_type": "execute_result",
          "data": {
            "text/html": [
              "<div>\n",
              "<style scoped>\n",
              "    .dataframe tbody tr th:only-of-type {\n",
              "        vertical-align: middle;\n",
              "    }\n",
              "\n",
              "    .dataframe tbody tr th {\n",
              "        vertical-align: top;\n",
              "    }\n",
              "\n",
              "    .dataframe thead th {\n",
              "        text-align: right;\n",
              "    }\n",
              "</style>\n",
              "<table border=\"1\" class=\"dataframe\">\n",
              "  <thead>\n",
              "    <tr style=\"text-align: right;\">\n",
              "      <th></th>\n",
              "      <th>Labels</th>\n",
              "      <th>Text</th>\n",
              "      <th>Text_Tag</th>\n",
              "    </tr>\n",
              "  </thead>\n",
              "  <tbody>\n",
              "    <tr>\n",
              "      <th>0</th>\n",
              "      <td>1</td>\n",
              "      <td>Says the Annies List political group supports ...</td>\n",
              "      <td>abortion</td>\n",
              "    </tr>\n",
              "    <tr>\n",
              "      <th>1</th>\n",
              "      <td>2</td>\n",
              "      <td>When did the decline of coal start? It started...</td>\n",
              "      <td>energy,history,job-accomplishments</td>\n",
              "    </tr>\n",
              "    <tr>\n",
              "      <th>2</th>\n",
              "      <td>3</td>\n",
              "      <td>Hillary Clinton agrees with John McCain \"by vo...</td>\n",
              "      <td>foreign-policy</td>\n",
              "    </tr>\n",
              "    <tr>\n",
              "      <th>3</th>\n",
              "      <td>1</td>\n",
              "      <td>Health care reform legislation is likely to ma...</td>\n",
              "      <td>health-care</td>\n",
              "    </tr>\n",
              "    <tr>\n",
              "      <th>4</th>\n",
              "      <td>2</td>\n",
              "      <td>The economic turnaround started at the end of ...</td>\n",
              "      <td>economy,jobs</td>\n",
              "    </tr>\n",
              "  </tbody>\n",
              "</table>\n",
              "</div>"
            ],
            "text/plain": [
              "   Labels  ...                            Text_Tag\n",
              "0       1  ...                            abortion\n",
              "1       2  ...  energy,history,job-accomplishments\n",
              "2       3  ...                      foreign-policy\n",
              "3       1  ...                         health-care\n",
              "4       2  ...                        economy,jobs\n",
              "\n",
              "[5 rows x 3 columns]"
            ]
          },
          "metadata": {
            "tags": []
          },
          "execution_count": 10
        }
      ]
    },
    {
      "cell_type": "code",
      "metadata": {
        "colab": {
          "base_uri": "https://localhost:8080/"
        },
        "id": "Y8UbvjPTDr4g",
        "outputId": "92dddb8c-b237-4d19-b406-0a962b2bf088"
      },
      "source": [
        "Fake=df_news[df_news.Labels==5].Text\n",
        "Fake"
      ],
      "execution_count": null,
      "outputs": [
        {
          "output_type": "execute_result",
          "data": {
            "text/plain": [
              "5        The Chicago Bears have had more starting quart...\n",
              "16       McCain opposed a requirement that the governme...\n",
              "30                Says Paul Ryan is still endorsing Trump.\n",
              "35       We have a federal government that thinks they ...\n",
              "36       Austin is a city that has basically doubled in...\n",
              "                               ...                        \n",
              "10200    During the Bush administration, you actually h...\n",
              "10205    Nearly half of Hispanic voters in Arizona's la...\n",
              "10210    Since the Affordable Care Act passed, 90 perce...\n",
              "10211    Debt has almost doubled in Austin under Gov. P...\n",
              "10222    For the first time since the Korean War, total...\n",
              "Name: Text, Length: 1676, dtype: object"
            ]
          },
          "metadata": {
            "tags": []
          },
          "execution_count": 31
        }
      ]
    },
    {
      "cell_type": "markdown",
      "metadata": {
        "id": "1BxKX3QG_SRW"
      },
      "source": [
        "Lables correspond to the following categorization :\n",
        "* Barely-True - 0\n",
        "* False – 1\n",
        "* Half-True – 2\n",
        "* Mostly-True - 3\n",
        "* Not-Known - 4\n",
        "* True - 5\n"
      ]
    },
    {
      "cell_type": "code",
      "metadata": {
        "colab": {
          "base_uri": "https://localhost:8080/"
        },
        "id": "ryJr_2F8_DH5",
        "outputId": "cd9ed333-bbbf-4b89-951a-e4c0789662b0"
      },
      "source": [
        "df_news.Labels.value_counts()  "
      ],
      "execution_count": null,
      "outputs": [
        {
          "output_type": "execute_result",
          "data": {
            "text/plain": [
              "2    2114\n",
              "1    1995\n",
              "3    1962\n",
              "5    1676\n",
              "0    1654\n",
              "4     839\n",
              "Name: Labels, dtype: int64"
            ]
          },
          "metadata": {
            "tags": []
          },
          "execution_count": 10
        }
      ]
    },
    {
      "cell_type": "code",
      "metadata": {
        "colab": {
          "base_uri": "https://localhost:8080/",
          "height": 298
        },
        "id": "eNtxVYDL_0qg",
        "outputId": "df2eab25-09f3-4a44-8a25-6f587aa93651"
      },
      "source": [
        "df_news.Labels.hist(bins = 11)\n",
        "plt.xlabel(\"Scope of truth\")\n",
        "plt.ylabel(\"Value counts\")"
      ],
      "execution_count": null,
      "outputs": [
        {
          "output_type": "execute_result",
          "data": {
            "text/plain": [
              "Text(0, 0.5, 'Value counts')"
            ]
          },
          "metadata": {
            "tags": []
          },
          "execution_count": 11
        },
        {
          "output_type": "display_data",
          "data": {
            "image/png": "[encoded data removed]",
            "text/plain": [
              "<Figure size 432x288 with 1 Axes>"
            ]
          },
          "metadata": {
            "tags": [],
            "needs_background": "light"
          }
        }
      ]
    },
    {
      "cell_type": "markdown",
      "metadata": {
        "id": "uvgM_XjjCozS"
      },
      "source": [
        "### Text_tag"
      ]
    },
    {
      "cell_type": "code",
      "metadata": {
        "colab": {
          "base_uri": "https://localhost:8080/"
        },
        "id": "qhXbDwWaAuFr",
        "outputId": "8399e9a4-bf42-4478-ddd9-753115d89118"
      },
      "source": [
        "# Processing the Text_tag column : split into list of words to categorize\n",
        "# We want to split according to the commas\n",
        "\n",
        "from functools import reduce\n",
        "from operator import add\n",
        "\n",
        "# List of words with separator = \",\"\n",
        "arr = df_news.Text_Tag.apply(lambda x: str(x).split(',')).array\n",
        "\n",
        "arr = reduce(add, arr)\n",
        "print(\"number of words =\", len(arr))\n",
        "print(\"nb of different words =\", len(set(arr)))\n"
      ],
      "execution_count": null,
      "outputs": [
        {
          "output_type": "stream",
          "text": [
            "number of words = 22205\n",
            "nb of different words = 143\n"
          ],
          "name": "stdout"
        }
      ]
    },
    {
      "cell_type": "markdown",
      "metadata": {
        "id": "ArwnrgkpDFSS"
      },
      "source": [
        "### Text"
      ]
    },
    {
      "cell_type": "code",
      "metadata": {
        "id": "zhVfTd_XEeft"
      },
      "source": [
        "from nltk.tokenize import TreebankWordTokenizer\n",
        "from nltk.tokenize import ToktokTokenizer\n",
        "from nltk.tokenize import TweetTokenizer"
      ],
      "execution_count": null,
      "outputs": []
    },
    {
      "cell_type": "code",
      "metadata": {
        "colab": {
          "base_uri": "https://localhost:8080/"
        },
        "id": "cksgr2XWENh5",
        "outputId": "7902e925-182f-445e-d6d1-eb6d6527114f"
      },
      "source": [
        "# Intuition : maybe Fake news use less vocabulary than True news\n",
        "\n",
        "tknr = TweetTokenizer()\n",
        "for label in range(6):\n",
        "  arr = df_news[df_news.Labels == label].Text.apply(lambda x: tknr.tokenize(x)).array\n",
        "  arr = reduce(add, arr)\n",
        "  # the set object transforms a list to the set of unique elements in the list :\n",
        "  print(\"For label {0}, set of different words with tokenizer {1} is {2} :\".format(label, tknr, len(set(arr))))"
      ],
      "execution_count": null,
      "outputs": [
        {
          "output_type": "stream",
          "text": [
            "For label 0, set of different words with tokenizer <nltk.tokenize.casual.TweetTokenizer object at 0x7f61c197a310> is 5796 :\n",
            "For label 1, set of different words with tokenizer <nltk.tokenize.casual.TweetTokenizer object at 0x7f61c197a310> is 6239 :\n",
            "For label 2, set of different words with tokenizer <nltk.tokenize.casual.TweetTokenizer object at 0x7f61c197a310> is 6454 :\n",
            "For label 3, set of different words with tokenizer <nltk.tokenize.casual.TweetTokenizer object at 0x7f61c197a310> is 6116 :\n",
            "For label 4, set of different words with tokenizer <nltk.tokenize.casual.TweetTokenizer object at 0x7f61c197a310> is 3971 :\n",
            "For label 5, set of different words with tokenizer <nltk.tokenize.casual.TweetTokenizer object at 0x7f61c197a310> is 5596 :\n"
          ],
          "name": "stdout"
        }
      ]
    },
    {
      "cell_type": "markdown",
      "metadata": {
        "id": "YbORy4zKGUbc"
      },
      "source": [
        "Remember 0 is Barely True and 5 is True.\n",
        "We normalize by total amount of words, or by text count in each category to get a clearer idea."
      ]
    },
    {
      "cell_type": "code",
      "metadata": {
        "colab": {
          "base_uri": "https://localhost:8080/"
        },
        "id": "DdImwxuKGf21",
        "outputId": "c4d99907-587a-4e15-bdef-c7d3e659ad0d"
      },
      "source": [
        "# Normalizing by number of words in each label category\n",
        "\n",
        "tknr = TweetTokenizer()\n",
        "for label in range(6):\n",
        "  arr = df_news[df_news.Labels == label].Text.apply(lambda x: tknr.tokenize(x)).array\n",
        "  arr = reduce(add, arr)\n",
        "  # the set object transforms a list to the set of unique elements in the list :\n",
        "  print(\"For label {0}, set of different words over number of words with tokenizer {1} is {2} :\".\n",
        "        format(label, tknr, len(set(arr))/len(arr)))\n"
      ],
      "execution_count": null,
      "outputs": [
        {
          "output_type": "stream",
          "text": [
            "For label 0, set of different words over number of words with tokenizer <nltk.tokenize.casual.TweetTokenizer object at 0x7f61c0c07090> is 0.17048061650685334 :\n",
            "For label 1, set of different words over number of words with tokenizer <nltk.tokenize.casual.TweetTokenizer object at 0x7f61c0c07090> is 0.16274944567627495 :\n",
            "For label 2, set of different words over number of words with tokenizer <nltk.tokenize.casual.TweetTokenizer object at 0x7f61c0c07090> is 0.14390831252229755 :\n",
            "For label 3, set of different words over number of words with tokenizer <nltk.tokenize.casual.TweetTokenizer object at 0x7f61c0c07090> is 0.1493820526598603 :\n",
            "For label 4, set of different words over number of words with tokenizer <nltk.tokenize.casual.TweetTokenizer object at 0x7f61c0c07090> is 0.24314229733039433 :\n",
            "For label 5, set of different words over number of words with tokenizer <nltk.tokenize.casual.TweetTokenizer object at 0x7f61c0c07090> is 0.16401899290696992 :\n"
          ],
          "name": "stdout"
        }
      ]
    },
    {
      "cell_type": "code",
      "metadata": {
        "colab": {
          "base_uri": "https://localhost:8080/"
        },
        "id": "NNbh-evHHKLq",
        "outputId": "49a2d839-a153-4525-ef23-3db0faeb5c78"
      },
      "source": [
        "df_news[df_news.Labels == 1].Text.count()"
      ],
      "execution_count": null,
      "outputs": [
        {
          "output_type": "execute_result",
          "data": {
            "text/plain": [
              "1995"
            ]
          },
          "metadata": {
            "tags": []
          },
          "execution_count": 17
        }
      ]
    },
    {
      "cell_type": "code",
      "metadata": {
        "colab": {
          "base_uri": "https://localhost:8080/"
        },
        "id": "halChUKfG-NB",
        "outputId": "d3bfd2db-7089-4490-97eb-d40c92ac4d68"
      },
      "source": [
        "# Normalizing by text count in each label category\n",
        "\n",
        "tknr = TweetTokenizer()\n",
        "for label in range(6):\n",
        "  arr = df_news[df_news.Labels == label].Text.apply(lambda x: tknr.tokenize(x)).array\n",
        "  arr = reduce(add, arr)\n",
        "  text_count = df_news[df_news.Labels == label].Text.count()\n",
        "  # the set object transforms a list to the set of unique elements in the list :\n",
        "  print(\"For label {0}, set of different words over text count with tokenizer {1} is {2} :\".\n",
        "        format(label, tknr, len(set(arr))/text_count))\n"
      ],
      "execution_count": null,
      "outputs": [
        {
          "output_type": "stream",
          "text": [
            "For label 0, set of different words over text count with tokenizer <nltk.tokenize.casual.TweetTokenizer object at 0x7f61c8bf8350> is 3.5042321644498187 :\n",
            "For label 1, set of different words over text count with tokenizer <nltk.tokenize.casual.TweetTokenizer object at 0x7f61c8bf8350> is 3.1273182957393484 :\n",
            "For label 2, set of different words over text count with tokenizer <nltk.tokenize.casual.TweetTokenizer object at 0x7f61c8bf8350> is 3.052980132450331 :\n",
            "For label 3, set of different words over text count with tokenizer <nltk.tokenize.casual.TweetTokenizer object at 0x7f61c8bf8350> is 3.1172273190621813 :\n",
            "For label 4, set of different words over text count with tokenizer <nltk.tokenize.casual.TweetTokenizer object at 0x7f61c8bf8350> is 4.733015494636472 :\n",
            "For label 5, set of different words over text count with tokenizer <nltk.tokenize.casual.TweetTokenizer object at 0x7f61c8bf8350> is 3.3389021479713605 :\n"
          ],
          "name": "stdout"
        }
      ]
    },
    {
      "cell_type": "markdown",
      "metadata": {
        "id": "caTzlizpHogL"
      },
      "source": [
        "I don't think we can conclude... \n",
        "\n",
        "Another assumption : maybe there are more numbers in True news ? "
      ]
    },
    {
      "cell_type": "code",
      "metadata": {
        "id": "toTRQ9oiKkj1"
      },
      "source": [
        "import re\n",
        "# Regular expression that matches any sequence of numbers:\n",
        "nb =  '[0-9]+' # retrieve all numbers : ([0-9] == from 0 to 9, and + allows multiple matches)"
      ],
      "execution_count": null,
      "outputs": []
    },
    {
      "cell_type": "code",
      "metadata": {
        "id": "RX6nJuNMK0kX"
      },
      "source": [
        "# Regular expression that matches any sequence of numbers:\n",
        "#ints, floats, percents, years\n",
        "\n",
        "# compile : Compile a regular expression pattern into a regular expression object,\n",
        "# which can be used for matching using its match(), search() and other methods\n",
        "ints_prog = re.compile('[0-9]+')\n",
        "floats_prog = re.compile('[0-9]+\\.?[0-9]*') # \\. pour désigner le point, * pour répétitions zero ou plusieurs fois\n",
        "percents_prog = re.compile('[0-9]+\\.?[0-9]*%')\n",
        "\n",
        "years_prog = re.compile('[12][089][0-9][0-9]') # a year between 1800 and 2099\n",
        "\n",
        "# Compute number of matches for every abstract\n",
        "progs = [ints_prog, floats_prog, percents_prog, years_prog]\n",
        "nb_types = [\"ints\", \"floats\", \"percents\", \"years\"]\n",
        "\n",
        "df_nb = df_news  # Don't forget to compute over unique abstracts\n"
      ],
      "execution_count": null,
      "outputs": []
    },
    {
      "cell_type": "code",
      "metadata": {
        "colab": {
          "base_uri": "https://localhost:8080/",
          "height": 206
        },
        "id": "TuCZhAIqLG_M",
        "outputId": "a47bb26a-e482-43d3-9ca4-57410fceae4f"
      },
      "source": [
        "for prog, nb_type in zip(progs, nb_types) :\n",
        "  #Create 1 column per type\n",
        "  #Split string by the occurrences of pattern => splits - 1 gives number of occurences\n",
        "  df_nb[nb_type] = pd.DataFrame(df_nb['Text'].apply(lambda x: len(prog.split(x))-1).array)\n",
        "df_nb[nb_types].head()"
      ],
      "execution_count": null,
      "outputs": [
        {
          "output_type": "execute_result",
          "data": {
            "text/html": [
              "<div>\n",
              "<style scoped>\n",
              "    .dataframe tbody tr th:only-of-type {\n",
              "        vertical-align: middle;\n",
              "    }\n",
              "\n",
              "    .dataframe tbody tr th {\n",
              "        vertical-align: top;\n",
              "    }\n",
              "\n",
              "    .dataframe thead th {\n",
              "        text-align: right;\n",
              "    }\n",
              "</style>\n",
              "<table border=\"1\" class=\"dataframe\">\n",
              "  <thead>\n",
              "    <tr style=\"text-align: right;\">\n",
              "      <th></th>\n",
              "      <th>ints</th>\n",
              "      <th>floats</th>\n",
              "      <th>percents</th>\n",
              "      <th>years</th>\n",
              "    </tr>\n",
              "  </thead>\n",
              "  <tbody>\n",
              "    <tr>\n",
              "      <th>0</th>\n",
              "      <td>0</td>\n",
              "      <td>0</td>\n",
              "      <td>0</td>\n",
              "      <td>0</td>\n",
              "    </tr>\n",
              "    <tr>\n",
              "      <th>1</th>\n",
              "      <td>0</td>\n",
              "      <td>0</td>\n",
              "      <td>0</td>\n",
              "      <td>0</td>\n",
              "    </tr>\n",
              "    <tr>\n",
              "      <th>2</th>\n",
              "      <td>0</td>\n",
              "      <td>0</td>\n",
              "      <td>0</td>\n",
              "      <td>0</td>\n",
              "    </tr>\n",
              "    <tr>\n",
              "      <th>3</th>\n",
              "      <td>0</td>\n",
              "      <td>0</td>\n",
              "      <td>0</td>\n",
              "      <td>0</td>\n",
              "    </tr>\n",
              "    <tr>\n",
              "      <th>4</th>\n",
              "      <td>0</td>\n",
              "      <td>0</td>\n",
              "      <td>0</td>\n",
              "      <td>0</td>\n",
              "    </tr>\n",
              "  </tbody>\n",
              "</table>\n",
              "</div>"
            ],
            "text/plain": [
              "   ints  floats  percents  years\n",
              "0     0       0         0      0\n",
              "1     0       0         0      0\n",
              "2     0       0         0      0\n",
              "3     0       0         0      0\n",
              "4     0       0         0      0"
            ]
          },
          "metadata": {
            "tags": []
          },
          "execution_count": 43
        }
      ]
    },
    {
      "cell_type": "code",
      "metadata": {
        "colab": {
          "base_uri": "https://localhost:8080/"
        },
        "id": "jfKH6E5rLdhK",
        "outputId": "f7155914-fd47-45f1-b2a6-55b09fc9d53d"
      },
      "source": [
        "print(df_nb.ints.sum())\n",
        "print(df_nb.floats.sum())\n",
        "print(df_nb.percents.sum())\n",
        "print(df_nb.years.sum())"
      ],
      "execution_count": null,
      "outputs": [
        {
          "output_type": "stream",
          "text": [
            "7317\n",
            "6951\n",
            "110\n",
            "915\n"
          ],
          "name": "stdout"
        }
      ]
    },
    {
      "cell_type": "code",
      "metadata": {
        "id": "1mbaUTPTLtMT"
      },
      "source": [
        "df_nb['numbers'] = df_nb.ints +df_nb.floats + df_nb.percents + df_nb.years \n"
      ],
      "execution_count": null,
      "outputs": []
    },
    {
      "cell_type": "code",
      "metadata": {
        "colab": {
          "base_uri": "https://localhost:8080/"
        },
        "id": "yruIT2Y1MwMJ",
        "outputId": "7a6e05f5-188e-4d13-8ca4-429a6c704741"
      },
      "source": [
        "for label in range(6):\n",
        "  nb_count = df_nb[df_nb.Labels == label].numbers.sum()\n",
        "  text_count = df_news[df_news.Labels == label].Text.count()\n",
        "  # the set object transforms a list to the set of unique elements in the list :\n",
        "  print(\"For label {0}, there are {1} numbers over {2} texts, ratio is {3}\".\n",
        "        format(label, nb_count, text_count, nb_count/text_count))\n"
      ],
      "execution_count": null,
      "outputs": [
        {
          "output_type": "stream",
          "text": [
            "For label 0, there are 2250 numbers over 1654 texts, ratio is 1.3603385731559854\n",
            "For label 1, there are 2410 numbers over 1995 texts, ratio is 1.2080200501253133\n",
            "For label 2, there are 3544 numbers over 2114 texts, ratio is 1.6764427625354779\n",
            "For label 3, there are 3600 numbers over 1962 texts, ratio is 1.834862385321101\n",
            "For label 4, there are 814 numbers over 839 texts, ratio is 0.9702026221692491\n",
            "For label 5, there are 2675 numbers over 1676 texts, ratio is 1.5960620525059666\n"
          ],
          "name": "stdout"
        }
      ]
    },
    {
      "cell_type": "markdown",
      "metadata": {
        "id": "UDM4TyWLNs7W"
      },
      "source": [
        "To be explored further to check whether it is significant but there might be something there !\n"
      ]
    },
    {
      "cell_type": "markdown",
      "metadata": {
        "id": "pfnK4iq-S7BG"
      },
      "source": [
        "#### Classic NLP Pipeline[texte du lien](https://)\n",
        "\n",
        "##### Tokenization using spacy"
      ]
    },
    {
      "cell_type": "code",
      "metadata": {
        "colab": {
          "base_uri": "https://localhost:8080/"
        },
        "id": "t_UHNFtfS9sx",
        "outputId": "6e34cb1c-3b64-46e8-ada6-1b2f40aec27b"
      },
      "source": [
        "#---------- Tokenization using spacy -----------#\n",
        "\n",
        "from spacy.tokenizer import Tokenizer\n",
        "from spacy.lang.en import English\n",
        "nlp = English()\n",
        "\n",
        "# Instanciating the tokenizer\n",
        "tokenizer = Tokenizer(nlp.vocab)\n",
        "\n",
        "sentence = nlp(df_news.Text[29]) \n",
        "for word in sentence:\n",
        "    print(word.text)\n",
        "print(len(sentence))\n"
      ],
      "execution_count": null,
      "outputs": [
        {
          "output_type": "stream",
          "text": [
            "Youth\n",
            "unemployment\n",
            "in\n",
            "minority\n",
            "communities\n",
            "is\n",
            "about\n",
            "40\n",
            "to\n",
            "45\n",
            "percent\n",
            ".\n",
            "12\n"
          ],
          "name": "stdout"
        }
      ]
    },
    {
      "cell_type": "code",
      "metadata": {
        "colab": {
          "base_uri": "https://localhost:8080/"
        },
        "id": "a0UDxP3lTUgn",
        "outputId": "ef374bab-2ff2-4899-c5c0-1530f6eacc00"
      },
      "source": [
        "tokenizer = Tokenizer(nlp.vocab)\n",
        "arr_spacy = df_news.Text.apply(lambda x : [w.text for w in tokenizer(x)]).array\n",
        "arr_spacy = reduce(add, arr_spacy)\n",
        "\n",
        "print(\"Total nb of words with Spacy {0} and Vocabulary size {1}\".format(len(arr_spacy), len(set(arr_spacy))))\n"
      ],
      "execution_count": null,
      "outputs": [
        {
          "output_type": "stream",
          "text": [
            "Total nb of words with Spacy 184842 and Vocabulary size 21682\n"
          ],
          "name": "stdout"
        }
      ]
    },
    {
      "cell_type": "code",
      "metadata": {
        "colab": {
          "base_uri": "https://localhost:8080/"
        },
        "id": "p014SCwrTbfm",
        "outputId": "720b37f4-c388-4121-f425-5b272d69c29e"
      },
      "source": [
        "# Inspecting a tokenization sample\n",
        "tokenization_sample = df_news.Text.head().apply(lambda x: \n",
        "                                              [w.text for w in tokenizer(x)])\n",
        "print(\"Tokenization sample:\\n {}\".format(tokenization_sample))\n"
      ],
      "execution_count": null,
      "outputs": [
        {
          "output_type": "stream",
          "text": [
            "Tokenization sample:\n",
            " 0    [Says, the, Annies, List, political, group, su...\n",
            "1    [When, did, the, decline, of, coal, start?, It...\n",
            "2    [Hillary, Clinton, agrees, with, John, McCain,...\n",
            "3    [Health, care, reform, legislation, is, likely...\n",
            "4    [The, economic, turnaround, started, at, the, ...\n",
            "Name: Text, dtype: object\n"
          ],
          "name": "stdout"
        }
      ]
    },
    {
      "cell_type": "markdown",
      "metadata": {
        "id": "RTVeDgYRThfG"
      },
      "source": [
        "##### Lemmatize using Spacy"
      ]
    },
    {
      "cell_type": "code",
      "metadata": {
        "id": "1J6tqh49TgOg",
        "colab": {
          "base_uri": "https://localhost:8080/"
        },
        "outputId": "246a65fe-a476-4958-ecb4-c59ad8253986"
      },
      "source": [
        "import spacy\n",
        "nlp = spacy.load(\"en_core_web_sm\")\n",
        "from spacy.lemmatizer import Lemmatizer\n",
        "from spacy.lookups import Lookups\n",
        "\n",
        "#from spacy.lemmatizer import Lemmatize\n",
        "from spacy.lang.en import English\n",
        "lemmatizer = English.Defaults.create_lemmatizer()\n",
        "#from spacy.lang.en import LEMMA_INDEX, LEMMA_EXC, LEMMA_RULES\n",
        "\n",
        "# Instanciating lemmatizer\n",
        "#lemmatizer = Lemmatizer(LEMMA_INDEX, LEMMA_EXC, LEMMA_RULES)\n",
        "lemmatizer = nlp.Defaults.create_lemmatizer()\n",
        "print('loaded')\n",
        "# Usage: lemmatizer(token, POS(token))\n",
        "# But we will rather use spacy's nlp engine\n",
        "\n",
        "# Counting lemmas vocabulary count\n",
        "\n",
        "# Usage: lemmatizer(token, POS(token))\n",
        "# But we will rather use spacy's nlp engine\n",
        "\n",
        "pipeline = [Lemmatizer]\n",
        "\n",
        "tokenizer = Tokenizer(nlp.vocab)\n",
        "arr_lemmatizer = df_news.Text.apply(lambda x : [w.lemma_ for w in nlp(x)]).array\n",
        "arr_lemmatizer = reduce(add, arr_lemmatizer)\n",
        "\n",
        "print(\"Total nb of words with Lemmatizer {0} and Vocabulary size {1}\".format(len(arr_lemmatizer), len(set(arr_lemmatizer))))\n",
        "\n",
        "\n",
        "# Inspecting a tokenization sample\n",
        "lemmatizer_sample = df_news.Text.head().apply(lambda x: \n",
        "                                              [w.lemma_ for w in nlp(x)])\n",
        "print(\"Tokenization sample:\\n {}\".format(lemmatizer_sample))\n"
      ],
      "execution_count": null,
      "outputs": [
        {
          "output_type": "stream",
          "text": [
            "loaded\n"
          ],
          "name": "stdout"
        }
      ]
    },
    {
      "cell_type": "markdown",
      "metadata": {
        "id": "mc0VPemRDKIk"
      },
      "source": [
        "### Is there any relationship between the categories in Text_tag and the length of text ? The truth of text ? The proportion of numbers quoted in text ? "
      ]
    },
    {
      "cell_type": "code",
      "metadata": {
        "id": "Xnaabe86DIF7"
      },
      "source": [
        "# We might want to detect quotes and numbers (percentage, years...)"
      ],
      "execution_count": null,
      "outputs": []
    },
    {
      "cell_type": "code",
      "metadata": {
        "id": "l-tEk1K9DqON"
      },
      "source": [
        ""
      ],
      "execution_count": null,
      "outputs": []
    },
    {
      "cell_type": "code",
      "metadata": {
        "id": "BkmaY0cXAuJL"
      },
      "source": [
        ""
      ],
      "execution_count": null,
      "outputs": []
    }
  ]
}